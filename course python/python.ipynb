{
 "cells": [
  {
   "attachments": {},
   "cell_type": "markdown",
   "metadata": {},
   "source": [
    "# Learn python"
   ]
  },
  {
   "attachments": {},
   "cell_type": "markdown",
   "metadata": {},
   "source": [
    "### Python Arithmetic Operators"
   ]
  },
  {
   "cell_type": "code",
   "execution_count": 1,
   "metadata": {},
   "outputs": [
    {
     "name": "stdout",
     "output_type": "stream",
     "text": [
      "9 Example for Addition\n",
      "1 Example for Subtraction\n",
      "20 Example for Multiplication\n",
      "1.25 Example for Division\n",
      "1 Example for Floored Division\n",
      "1 Example for Modulo\n",
      "625 Example of power\n"
     ]
    }
   ],
   "source": [
    "a = 5 # assign value to variable (5 to a)\n",
    "b = 4 # ( 4 to b)\n",
    "\n",
    "print( a + b, \"Example for Addition\" )\n",
    "print( a - b, \"Example for Subtraction\" )\n",
    "print( a * b, \"Example for Multiplication\")\n",
    "print( a / b, \"Example for Division\")\n",
    "print( a // b,\"Example for Floored Division\" )\n",
    "print( a % b, \"Example for Modulo\" )\n",
    "print( a**b,  \"Example of power\")\n",
    "\n"
   ]
  },
  {
   "attachments": {},
   "cell_type": "markdown",
   "metadata": {},
   "source": [
    "### Python Data Types"
   ]
  },
  {
   "cell_type": "code",
   "execution_count": 2,
   "metadata": {},
   "outputs": [
    {
     "name": "stdout",
     "output_type": "stream",
     "text": [
      "type of data = <class 'int'>\n",
      "type of data = <class 'str'>\n",
      "type of data = <class 'float'>\n",
      "type of data = <class 'bool'>\n"
     ]
    }
   ],
   "source": [
    "a = 5\n",
    "print(\"type of data =\",type(a))\n",
    "\n",
    "a = \"Labiba\"\n",
    "print(\"type of data =\",type(a))\n",
    "\n",
    "a = 5.5\n",
    "print(\"type of data =\",type(a))\n",
    "\n",
    "a = True\n",
    "print(\"type of data =\",type(a))\n"
   ]
  },
  {
   "attachments": {},
   "cell_type": "markdown",
   "metadata": {},
   "source": [
    "### Python Variables\n"
   ]
  },
  {
   "attachments": {},
   "cell_type": "markdown",
   "metadata": {},
   "source": [
    "Variables are names given to data items that may take on one or more values during\n",
    "a program’s runtime"
   ]
  },
  {
   "cell_type": "code",
   "execution_count": 3,
   "metadata": {},
   "outputs": [
    {
     "name": "stdout",
     "output_type": "stream",
     "text": [
      "Cristiano is best than Messi\n",
      "5\n"
     ]
    }
   ],
   "source": [
    "foot = \"Cristiano is best than Messi\" \n",
    "print(foot)\n",
    "\n",
    "foot = 5\n",
    "print(foot)"
   ]
  },
  {
   "attachments": {},
   "cell_type": "markdown",
   "metadata": {},
   "source": [
    "### Standard Python Functions"
   ]
  },
  {
   "attachments": {},
   "cell_type": "markdown",
   "metadata": {},
   "source": [
    "#### **print() function in Python**"
   ]
  },
  {
   "attachments": {},
   "cell_type": "markdown",
   "metadata": {},
   "source": [
    "The print() function prints some specified message to the screen or some standard\n",
    "output device\n"
   ]
  },
  {
   "cell_type": "code",
   "execution_count": 4,
   "metadata": {},
   "outputs": [
    {
     "name": "stdout",
     "output_type": "stream",
     "text": [
      "Hello, world\n",
      "messi has 7\n",
      "messi has  7\n",
      "messi has 7\n"
     ]
    }
   ],
   "source": [
    "print(\"Hello, world\")\n",
    "foot= \"messi has \"\n",
    "a=7\n",
    "print(foot+str(a))\n",
    "#or\n",
    "print(foot,a)\n",
    "\n",
    "a=\"7\"\n",
    "print(foot+a)"
   ]
  },
  {
   "attachments": {},
   "cell_type": "markdown",
   "metadata": {},
   "source": [
    "#### **input() function in Python**"
   ]
  },
  {
   "attachments": {},
   "cell_type": "markdown",
   "metadata": {},
   "source": [
    "The input() function in Python is used to take any form of inputs from the\n",
    "user/standard input device"
   ]
  },
  {
   "cell_type": "code",
   "execution_count": 5,
   "metadata": {},
   "outputs": [
    {
     "name": "stdout",
     "output_type": "stream",
     "text": [
      "Enter your name\n",
      "your name is \n"
     ]
    }
   ],
   "source": [
    "print(\"Enter your name\")\n",
    "name=input()\n",
    "print(\"your name is \"+name)"
   ]
  },
  {
   "attachments": {},
   "cell_type": "markdown",
   "metadata": {},
   "source": [
    "#### **len() function in Python**\n"
   ]
  },
  {
   "attachments": {},
   "cell_type": "markdown",
   "metadata": {},
   "source": [
    "The len() function is used find the length for a list or tuple"
   ]
  },
  {
   "cell_type": "code",
   "execution_count": 6,
   "metadata": {},
   "outputs": [
    {
     "name": "stdout",
     "output_type": "stream",
     "text": [
      "5\n"
     ]
    }
   ],
   "source": [
    "tab = [1,2,3,6,8]\n",
    "\n",
    "print(len(tab))"
   ]
  },
  {
   "attachments": {},
   "cell_type": "markdown",
   "metadata": {},
   "source": [
    "#### **ord() function in Python**"
   ]
  },
  {
   "attachments": {},
   "cell_type": "markdown",
   "metadata": {},
   "source": [
    "The ord() function in Python will return an integer that represents the Unicode\n",
    "Character (ASCII table) passed into it and it takes only one character"
   ]
  },
  {
   "cell_type": "code",
   "execution_count": 7,
   "metadata": {},
   "outputs": [
    {
     "name": "stdout",
     "output_type": "stream",
     "text": [
      "65\n",
      "49\n",
      "32\n",
      "73\n"
     ]
    }
   ],
   "source": [
    "print(ord(\"A\"))\n",
    "print(ord(\"1\"))\n",
    "print(ord(\" \"))\n",
    "print(ord(\"I\"))"
   ]
  },
  {
   "attachments": {},
   "cell_type": "markdown",
   "metadata": {},
   "source": [
    "For more built-in funtions in python please visit this [link](https://docs.python.org/3/library/functions.html)"
   ]
  },
  {
   "attachments": {},
   "cell_type": "markdown",
   "metadata": {},
   "source": [
    "### Python Type Casting"
   ]
  },
  {
   "attachments": {},
   "cell_type": "markdown",
   "metadata": {},
   "source": [
    "Type casting  means a conversion of a particular datatype into some other datatype. \n",
    " - **Implicit casting** : python do it directly\n",
    " - **Explicit casting** :\n",
    "\t - int()\n",
    "\t - float()\n",
    "\t - bin()\n",
    "\t - hex()\n",
    "\t - etc.\n"
   ]
  },
  {
   "cell_type": "code",
   "execution_count": 8,
   "metadata": {},
   "outputs": [
    {
     "name": "stdout",
     "output_type": "stream",
     "text": [
      "101.01\n",
      "<class 'int'>\n",
      "<class 'float'>\n",
      "<class 'float'>\n"
     ]
    }
   ],
   "source": [
    "# Implicit casting\n",
    "num_int = 100\n",
    "num_float = 1.01\n",
    "ans = num_int + num_float\n",
    "print(ans)\n",
    "print(type(num_int))\n",
    "print(type(num_float))\n",
    "print(type(ans))\n"
   ]
  },
  {
   "cell_type": "code",
   "execution_count": 9,
   "metadata": {},
   "outputs": [
    {
     "name": "stdout",
     "output_type": "stream",
     "text": [
      "<class 'float'>\n",
      "1\n",
      "<class 'int'>\n",
      "0b1010\n",
      "<class 'int'>\n",
      "500.0\n",
      "<class 'int'>\n",
      "500\n",
      "<class 'str'>\n",
      "100 100.0\n"
     ]
    }
   ],
   "source": [
    "# Explicit casting\n",
    "num_float= 1.002\n",
    "print(type(num_float))\n",
    "print(int(num_float)) # convert float to int\n",
    "\n",
    "num=10\n",
    "print(type(num))\n",
    "print(bin(num)) # convert int to binary\n",
    "\n",
    "num=500\n",
    "print(type(num))\n",
    "print(float(num)) # convert int to float\n",
    "\n",
    "num=500\n",
    "print(type(num))\n",
    "print(str(num)) # convert int to string\n",
    "\n",
    "num=\"100\"\n",
    "print(type(num))\n",
    "print(int(num),float(num)) #convert string to int and float"
   ]
  }
 ],
 "metadata": {
  "kernelspec": {
   "display_name": "base",
   "language": "python",
   "name": "python3"
  },
  "language_info": {
   "codemirror_mode": {
    "name": "ipython",
    "version": 3
   },
   "file_extension": ".py",
   "mimetype": "text/x-python",
   "name": "python",
   "nbconvert_exporter": "python",
   "pygments_lexer": "ipython3",
   "version": "3.9.7"
  },
  "orig_nbformat": 4
 },
 "nbformat": 4,
 "nbformat_minor": 2
}
